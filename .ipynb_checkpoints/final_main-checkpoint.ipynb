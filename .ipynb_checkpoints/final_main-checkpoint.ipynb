{
 "cells": [
  {
   "cell_type": "markdown",
   "metadata": {
    "colab_type": "text",
    "id": "_3VMpj-oIjIH"
   },
   "source": [
    "#### Подключение Google Drive"
   ]
  },
  {
   "cell_type": "code",
   "execution_count": 0,
   "metadata": {
    "colab": {},
    "colab_type": "code",
    "id": "xbE8UT6RrpTe"
   },
   "outputs": [],
   "source": [
    "g_drive = True"
   ]
  },
  {
   "cell_type": "code",
   "execution_count": 0,
   "metadata": {
    "colab": {},
    "colab_type": "code",
    "id": "s0wkR89IIjIL"
   },
   "outputs": [],
   "source": [
    "if g_drive:\n",
    "    from google.colab import drive\n",
    "    drive.mount('/content/gdrive')"
   ]
  },
  {
   "cell_type": "code",
   "execution_count": null,
   "metadata": {
    "colab": {
     "base_uri": "https://localhost:8080/",
     "height": 306
    },
    "colab_type": "code",
    "executionInfo": {
     "elapsed": 19093,
     "status": "ok",
     "timestamp": 1555830773113,
     "user": {
      "displayName": "Denis",
      "photoUrl": "https://lh3.googleusercontent.com/-FqXhnZLeXmg/AAAAAAAAAAI/AAAAAAAATYg/PmeLaYQOggo/s64/photo.jpg",
      "userId": "07615694621816642823"
     },
     "user_tz": -120
    },
    "id": "UaJW2z2SIjIV",
    "outputId": "80d16c8a-5062-43ba-a97f-56d9e8fe38ff",
    "scrolled": true
   },
   "outputs": [],
   "source": [
    "if g_drive:\n",
    "    main_path = '/content/gdrive/My Drive/Projects/ai_contest_2019/final/'\n",
    "    !pip install catboost\n",
    "    !pip install lightgbm\n",
    "else:\n",
    "    main_path = ''"
   ]
  },
  {
   "cell_type": "markdown",
   "metadata": {
    "colab_type": "text",
    "id": "g5ep4CJEIjIj"
   },
   "source": [
    "### Импорт библиотек"
   ]
  },
  {
   "cell_type": "code",
   "execution_count": 0,
   "metadata": {
    "colab": {},
    "colab_type": "code",
    "id": "z-MGns3FIjIm"
   },
   "outputs": [],
   "source": [
    "# %pylab inline\n",
    "import pandas as pd\n",
    "import numpy as np\n",
    "import seaborn as sns\n",
    "import xgboost as xgb\n",
    "\n",
    "from sklearn.model_selection import train_test_split\n",
    "from sklearn.metrics import accuracy_score\n",
    "from sklearn.preprocessing import PolynomialFeatures\n",
    "\n",
    "from catboost import CatBoostClassifier\n",
    "from xgboost import XGBClassifier\n",
    "from datetime import datetime"
   ]
  },
  {
   "cell_type": "markdown",
   "metadata": {
    "colab_type": "text",
    "id": "kOiUT357IjIy"
   },
   "source": [
    "### Вспомогательные функции\n",
    "#### Submission"
   ]
  },
  {
   "cell_type": "code",
   "execution_count": 0,
   "metadata": {
    "colab": {},
    "colab_type": "code",
    "id": "e3Cn2nnnIjI1"
   },
   "outputs": [],
   "source": [
    "def subm(model, X_train, y_train, X_test, name):\n",
    "    model.fit(X_train, y_train)\n",
    "    y_pred = model.predict_proba(X_test)[:, 1]\n",
    "    df_submission_ = pd.DataFrame({'skilled_prob': y_pred}, index=X_test.index)\n",
    "    cur_time = str(datetime.now().strftime('%d%m_%I%M%S'))\n",
    "    df_submission_.to_csv(f'{main_path}submissions/{cur_time}_{name}.csv')"
   ]
  },
  {
   "cell_type": "code",
   "execution_count": 0,
   "metadata": {
    "colab": {},
    "colab_type": "code",
    "id": "Pvl28HJTIjI7"
   },
   "outputs": [],
   "source": [
    "def to_ans(X_test, y_pred, name):\n",
    "    df_submission_ = pd.DataFrame({'skilled_prob': y_pred}, index=X_test.index)\n",
    "    df_submission_.to_csv(f'{main_path}submissions/submission_{name}.csv')"
   ]
  },
  {
   "cell_type": "markdown",
   "metadata": {
    "colab_type": "text",
    "id": "hPJ9wklCIjI_"
   },
   "source": [
    "#### Accuracy"
   ]
  },
  {
   "cell_type": "code",
   "execution_count": 0,
   "metadata": {
    "colab": {},
    "colab_type": "code",
    "id": "-eAt0cAHIjJB"
   },
   "outputs": [],
   "source": [
    "def acc(model, X_train_s, y_train_s, X_test_s, y_test_s):\n",
    "    model.fit(X_train_s, y_train_s)\n",
    "    y_pred = model.predict(X_test_s)\n",
    "    acc = accuracy_score(y_pred, y_test_s)\n",
    "    return acc"
   ]
  },
  {
   "cell_type": "markdown",
   "metadata": {
    "colab_type": "text",
    "id": "VullL8VuIjJL"
   },
   "source": [
    "### Features defs"
   ]
  },
  {
   "cell_type": "code",
   "execution_count": 0,
   "metadata": {
    "colab": {},
    "colab_type": "code",
    "id": "b-5M4N72IjJR"
   },
   "outputs": [],
   "source": [
    "# features table upload\n",
    "def features_up(X, data_type):\n",
    "    features_table = pd.read_csv(f'{main_path}data/features_{data_type}.csv', index_col=0)\n",
    "    X = X.join(features_table)\n",
    "    print(data_type)\n",
    "    return X"
   ]
  },
  {
   "cell_type": "code",
   "execution_count": 0,
   "metadata": {
    "colab": {},
    "colab_type": "code",
    "id": "MU392BEAIjJo"
   },
   "outputs": [],
   "source": [
    "# KD calc\n",
    "def kd(X, data_type):\n",
    "    X['kd'] = X['kills']/X['deaths']\n",
    "    X['kd'] = X['kills'].where(X['kd'] == np.inf, other=X['kd'])\n",
    "    X['kd'] = X['kills'].where(X['kd'].isnull(), other=X['kd'])\n",
    "    \n",
    "    X['kd_x16'] = X['avg_kills_x16']/X['avg_deaths_x16']\n",
    "    X['kd_x16'] = X['avg_kills_x16'].where(X['kd_x16'] == np.inf, other=X['kd_x16'])\n",
    "    X['kd_x16'] = X['avg_kills_x16'].where(X['kd_x16'].isnull(), other=X['kd_x16'])\n",
    "    return X"
   ]
  },
  {
   "cell_type": "code",
   "execution_count": 0,
   "metadata": {
    "colab": {},
    "colab_type": "code",
    "id": "TzwhCT39IjJv"
   },
   "outputs": [],
   "source": [
    "# KDA calc\n",
    "def kda(X, data_type):\n",
    "    X['ka'] = X['kills'] + X['assists']\n",
    "    X['kda'] = X['ka']/X['deaths']\n",
    "    X['kda'] = X['ka'].where(X['kda'] == np.inf, other=X['kda'])\n",
    "    X['kda'] = X['ka'].where(X['kda'].isnull(), other=X['kda'])\n",
    "    \n",
    "    X['ka_x16'] = X['avg_kills_x16'] + X['avg_assists_x16']\n",
    "    X['kda_x16'] = X['ka_x16']/X['avg_deaths_x16']\n",
    "    X['kda_x16'] = X['ka_x16'].where(X['kda_x16'] == np.inf, other=X['kda_x16'])\n",
    "    X['kda_x16'] = X['ka_x16'].where(X['kda_x16'].isnull(), other=X['kda_x16'])\n",
    "    return X"
   ]
  },
  {
   "cell_type": "code",
   "execution_count": 0,
   "metadata": {
    "colab": {},
    "colab_type": "code",
    "id": "EN47AO34IjJz"
   },
   "outputs": [],
   "source": [
    "# ratios between player's gold and other\n",
    "def gold_ratio(X, data_type):\n",
    "    X['gold_ratio_radiant'] = X['gold']/X['radiant_gold']\n",
    "    X['gold_ratio_radiant'] = X['gold']/X['dire_gold']\n",
    "    X['sum_gold'] = X['dire_gold'] + X['radiant_gold']\n",
    "    X['gold_ratio_sum'] = X['gold']/X['sum_gold']\n",
    "    return X"
   ]
  },
  {
   "cell_type": "code",
   "execution_count": 0,
   "metadata": {
    "colab": {},
    "colab_type": "code",
    "id": "r_Qj9vRaIjJ3"
   },
   "outputs": [],
   "source": [
    "# combinations of features\n",
    "def comb(X, data_type):\n",
    "    X['gxpm_per_min_1'] = X['gold_per_min']*X['xp_per_min']\n",
    "    X['gxpm_per_min_1_avg'] = X['avg_gpm_x16']*X['avg_xpm_x16']\n",
    "    return X"
   ]
  },
  {
   "cell_type": "code",
   "execution_count": 0,
   "metadata": {
    "colab": {},
    "colab_type": "code",
    "id": "qZPkkfObIjKA"
   },
   "outputs": [],
   "source": [
    "# features per minute\n",
    "def pm(X, data_type):\n",
    "    col_to_pm = ['kills', 'deaths', 'assists',\n",
    "         'denies', 'level', 'net_worth', 'gold', 'gold_spent', 'last_hits',\n",
    "         'gold_per_min', 'xp_per_min', 'hero_damage', 'tower_damage',\n",
    "         'hero_healing', 'scaled_hero_damage', 'scaled_tower_damage',\n",
    "         'scaled_hero_healing', 'stuns', 'team_fight_participation',\n",
    "         'observer_wards_placed', 'sentry_wards_placed', 'creeps_stacked',\n",
    "         'camps_stacked', 'rune_pickups', 'tower_kills', 'roshan_kills',\n",
    "         'nearby_creep_death_count', 'fight_score',\n",
    "       'farm_score', 'support_score', 'push_score', 'radiant_gold', 'dire_gold', 'sum_gold', 'gxpm_per_min_1', 'ka', 'kda']\n",
    "    for name in col_to_pm:\n",
    "            X[f'{name}_per_min'] = X[name]/X['duration']\n",
    "    print(data_type)\n",
    "    return X"
   ]
  },
  {
   "cell_type": "code",
   "execution_count": 0,
   "metadata": {
    "colab": {},
    "colab_type": "code",
    "id": "vCTrUIPBIjKG"
   },
   "outputs": [],
   "source": [
    "# player's hero id one-hot coding\n",
    "def hero_to_cat(X, data_type):\n",
    "    print(data_type)\n",
    "    for hero_id in set(X.hero_id):\n",
    "        X['is_hero_{}'.format(hero_id)] = X.hero_id == hero_id\n",
    "    return X"
   ]
  },
  {
   "cell_type": "code",
   "execution_count": 0,
   "metadata": {
    "colab": {},
    "colab_type": "code",
    "id": "87nL11NYIjKU"
   },
   "outputs": [],
   "source": [
    "# apply all features\n",
    "def all_features(X, data_type):\n",
    "    X = features_up(X, data_type)\n",
    "    X = kd(X, data_type)\n",
    "    X = kda(X, data_type)\n",
    "    X = gold_ratio(X, data_type)\n",
    "    X = hero_to_cat(X, data_type)\n",
    "    X = comb(X, data_type)\n",
    "    X = pm(X, data_type)\n",
    "    X = X.drop(['player_team', 'winner_team'], axis=1)\n",
    "    return X"
   ]
  },
  {
   "cell_type": "markdown",
   "metadata": {
    "colab_type": "text",
    "id": "41uv04R8IjKc"
   },
   "source": [
    "### Data upload"
   ]
  },
  {
   "cell_type": "code",
   "execution_count": 0,
   "metadata": {
    "colab": {},
    "colab_type": "code",
    "id": "0UOHI8iVIjKe"
   },
   "outputs": [],
   "source": [
    "# df_train = pd.read_csv(f'{main_path}data/academy2019_final_train.csv', index_col='id')\n",
    "df_train = pd.read_csv(\n",
    "    'https://s3.eu-central-1.amazonaws.com/ai-academy-2019/public/final/academy2019_final_train.csv',\n",
    "    index_col='id')\n",
    "y_train = df_train['skilled']\n",
    "X_train = df_train.drop(['skilled'], axis=1)\n",
    "\n",
    "# X_test = pd.read_csv(f'{main_path}data/academy2019_final_test.csv', index_col='id')\n",
    "X_test = pd.read_csv(\n",
    "    'https://s3.eu-central-1.amazonaws.com/ai-academy-2019/public/final/academy2019_final_test.csv',\n",
    "    index_col='id')"
   ]
  },
  {
   "cell_type": "code",
   "execution_count": 19,
   "metadata": {
    "colab": {
     "base_uri": "https://localhost:8080/",
     "height": 274
    },
    "colab_type": "code",
    "executionInfo": {
     "elapsed": 545,
     "status": "ok",
     "timestamp": 1555830859481,
     "user": {
      "displayName": "Denis",
      "photoUrl": "https://lh3.googleusercontent.com/-FqXhnZLeXmg/AAAAAAAAAAI/AAAAAAAATYg/PmeLaYQOggo/s64/photo.jpg",
      "userId": "07615694621816642823"
     },
     "user_tz": -120
    },
    "id": "Ro_D4NOIvq9Z",
    "outputId": "c3aec8dd-ead1-48bf-9f65-a6c42545b732"
   },
   "outputs": [
    {
     "data": {
      "text/html": [
       "<div>\n",
       "<style scoped>\n",
       "    .dataframe tbody tr th:only-of-type {\n",
       "        vertical-align: middle;\n",
       "    }\n",
       "\n",
       "    .dataframe tbody tr th {\n",
       "        vertical-align: top;\n",
       "    }\n",
       "\n",
       "    .dataframe thead th {\n",
       "        text-align: right;\n",
       "    }\n",
       "</style>\n",
       "<table border=\"1\" class=\"dataframe\">\n",
       "  <thead>\n",
       "    <tr style=\"text-align: right;\">\n",
       "      <th></th>\n",
       "      <th>player_team</th>\n",
       "      <th>winner_team</th>\n",
       "      <th>duration</th>\n",
       "      <th>pre_game_duration</th>\n",
       "      <th>first_blood_time</th>\n",
       "      <th>first_blood_claimed</th>\n",
       "      <th>hero_id</th>\n",
       "      <th>hero_pick_order</th>\n",
       "      <th>leaver_status</th>\n",
       "      <th>party_players</th>\n",
       "      <th>...</th>\n",
       "      <th>avg_deaths_x16</th>\n",
       "      <th>avg_assists_x16</th>\n",
       "      <th>avg_gpm_x16</th>\n",
       "      <th>avg_xpm_x16</th>\n",
       "      <th>best_kills_x16</th>\n",
       "      <th>best_assists_x16</th>\n",
       "      <th>best_gpm_x16</th>\n",
       "      <th>best_xpm_x16</th>\n",
       "      <th>win_streak</th>\n",
       "      <th>best_win_streak</th>\n",
       "    </tr>\n",
       "    <tr>\n",
       "      <th>id</th>\n",
       "      <th></th>\n",
       "      <th></th>\n",
       "      <th></th>\n",
       "      <th></th>\n",
       "      <th></th>\n",
       "      <th></th>\n",
       "      <th></th>\n",
       "      <th></th>\n",
       "      <th></th>\n",
       "      <th></th>\n",
       "      <th></th>\n",
       "      <th></th>\n",
       "      <th></th>\n",
       "      <th></th>\n",
       "      <th></th>\n",
       "      <th></th>\n",
       "      <th></th>\n",
       "      <th></th>\n",
       "      <th></th>\n",
       "      <th></th>\n",
       "      <th></th>\n",
       "    </tr>\n",
       "  </thead>\n",
       "  <tbody>\n",
       "    <tr>\n",
       "      <th>0</th>\n",
       "      <td>radiant</td>\n",
       "      <td>radiant</td>\n",
       "      <td>1761</td>\n",
       "      <td>90</td>\n",
       "      <td>52</td>\n",
       "      <td>0</td>\n",
       "      <td>6</td>\n",
       "      <td>5</td>\n",
       "      <td>0</td>\n",
       "      <td>1</td>\n",
       "      <td>...</td>\n",
       "      <td>7</td>\n",
       "      <td>11</td>\n",
       "      <td>514</td>\n",
       "      <td>601</td>\n",
       "      <td>24</td>\n",
       "      <td>28</td>\n",
       "      <td>681</td>\n",
       "      <td>797</td>\n",
       "      <td>5</td>\n",
       "      <td>5</td>\n",
       "    </tr>\n",
       "    <tr>\n",
       "      <th>1</th>\n",
       "      <td>dire</td>\n",
       "      <td>dire</td>\n",
       "      <td>2609</td>\n",
       "      <td>90</td>\n",
       "      <td>108</td>\n",
       "      <td>0</td>\n",
       "      <td>7</td>\n",
       "      <td>4</td>\n",
       "      <td>0</td>\n",
       "      <td>3</td>\n",
       "      <td>...</td>\n",
       "      <td>9</td>\n",
       "      <td>14</td>\n",
       "      <td>412</td>\n",
       "      <td>515</td>\n",
       "      <td>23</td>\n",
       "      <td>40</td>\n",
       "      <td>624</td>\n",
       "      <td>796</td>\n",
       "      <td>1</td>\n",
       "      <td>5</td>\n",
       "    </tr>\n",
       "    <tr>\n",
       "      <th>2</th>\n",
       "      <td>radiant</td>\n",
       "      <td>radiant</td>\n",
       "      <td>1811</td>\n",
       "      <td>90</td>\n",
       "      <td>102</td>\n",
       "      <td>1</td>\n",
       "      <td>108</td>\n",
       "      <td>5</td>\n",
       "      <td>0</td>\n",
       "      <td>1</td>\n",
       "      <td>...</td>\n",
       "      <td>7</td>\n",
       "      <td>15</td>\n",
       "      <td>458</td>\n",
       "      <td>499</td>\n",
       "      <td>5</td>\n",
       "      <td>15</td>\n",
       "      <td>458</td>\n",
       "      <td>499</td>\n",
       "      <td>1</td>\n",
       "      <td>1</td>\n",
       "    </tr>\n",
       "    <tr>\n",
       "      <th>3</th>\n",
       "      <td>radiant</td>\n",
       "      <td>radiant</td>\n",
       "      <td>2668</td>\n",
       "      <td>90</td>\n",
       "      <td>0</td>\n",
       "      <td>0</td>\n",
       "      <td>9</td>\n",
       "      <td>6</td>\n",
       "      <td>0</td>\n",
       "      <td>3</td>\n",
       "      <td>...</td>\n",
       "      <td>4</td>\n",
       "      <td>18</td>\n",
       "      <td>372</td>\n",
       "      <td>483</td>\n",
       "      <td>14</td>\n",
       "      <td>27</td>\n",
       "      <td>462</td>\n",
       "      <td>650</td>\n",
       "      <td>5</td>\n",
       "      <td>5</td>\n",
       "    </tr>\n",
       "    <tr>\n",
       "      <th>7</th>\n",
       "      <td>dire</td>\n",
       "      <td>radiant</td>\n",
       "      <td>1716</td>\n",
       "      <td>90</td>\n",
       "      <td>52</td>\n",
       "      <td>0</td>\n",
       "      <td>31</td>\n",
       "      <td>2</td>\n",
       "      <td>0</td>\n",
       "      <td>1</td>\n",
       "      <td>...</td>\n",
       "      <td>11</td>\n",
       "      <td>15</td>\n",
       "      <td>290</td>\n",
       "      <td>387</td>\n",
       "      <td>16</td>\n",
       "      <td>37</td>\n",
       "      <td>513</td>\n",
       "      <td>744</td>\n",
       "      <td>0</td>\n",
       "      <td>5</td>\n",
       "    </tr>\n",
       "  </tbody>\n",
       "</table>\n",
       "<p>5 rows × 56 columns</p>\n",
       "</div>"
      ],
      "text/plain": [
       "   player_team winner_team  duration  pre_game_duration  first_blood_time  \\\n",
       "id                                                                          \n",
       "0      radiant     radiant      1761                 90                52   \n",
       "1         dire        dire      2609                 90               108   \n",
       "2      radiant     radiant      1811                 90               102   \n",
       "3      radiant     radiant      2668                 90                 0   \n",
       "7         dire     radiant      1716                 90                52   \n",
       "\n",
       "    first_blood_claimed  hero_id  hero_pick_order  leaver_status  \\\n",
       "id                                                                 \n",
       "0                     0        6                5              0   \n",
       "1                     0        7                4              0   \n",
       "2                     1      108                5              0   \n",
       "3                     0        9                6              0   \n",
       "7                     0       31                2              0   \n",
       "\n",
       "    party_players       ...         avg_deaths_x16  avg_assists_x16  \\\n",
       "id                      ...                                           \n",
       "0               1       ...                      7               11   \n",
       "1               3       ...                      9               14   \n",
       "2               1       ...                      7               15   \n",
       "3               3       ...                      4               18   \n",
       "7               1       ...                     11               15   \n",
       "\n",
       "    avg_gpm_x16  avg_xpm_x16  best_kills_x16  best_assists_x16  best_gpm_x16  \\\n",
       "id                                                                             \n",
       "0           514          601              24                28           681   \n",
       "1           412          515              23                40           624   \n",
       "2           458          499               5                15           458   \n",
       "3           372          483              14                27           462   \n",
       "7           290          387              16                37           513   \n",
       "\n",
       "    best_xpm_x16  win_streak  best_win_streak  \n",
       "id                                             \n",
       "0            797           5                5  \n",
       "1            796           1                5  \n",
       "2            499           1                1  \n",
       "3            650           5                5  \n",
       "7            744           0                5  \n",
       "\n",
       "[5 rows x 56 columns]"
      ]
     },
     "execution_count": 19,
     "metadata": {
      "tags": []
     },
     "output_type": "execute_result"
    }
   ],
   "source": [
    "X_train.head()"
   ]
  },
  {
   "cell_type": "code",
   "execution_count": 23,
   "metadata": {
    "colab": {
     "base_uri": "https://localhost:8080/",
     "height": 118
    },
    "colab_type": "code",
    "executionInfo": {
     "elapsed": 19623,
     "status": "ok",
     "timestamp": 1555830925288,
     "user": {
      "displayName": "Denis",
      "photoUrl": "https://lh3.googleusercontent.com/-FqXhnZLeXmg/AAAAAAAAAAI/AAAAAAAATYg/PmeLaYQOggo/s64/photo.jpg",
      "userId": "07615694621816642823"
     },
     "user_tz": -120
    },
    "id": "7xAVDZcnvd5Z",
    "outputId": "ddf1cb88-d498-4991-cbda-271ed2cf21ab"
   },
   "outputs": [
    {
     "name": "stdout",
     "output_type": "stream",
     "text": [
      "train\n",
      "train\n",
      "train\n",
      "test\n",
      "test\n",
      "test\n"
     ]
    }
   ],
   "source": [
    "# apply features preprocessing\n",
    "X_train = all_features(X_train, 'train')\n",
    "X_test = all_features(X_test, 'test')"
   ]
  },
  {
   "cell_type": "code",
   "execution_count": 24,
   "metadata": {
    "colab": {
     "base_uri": "https://localhost:8080/",
     "height": 274
    },
    "colab_type": "code",
    "executionInfo": {
     "elapsed": 582,
     "status": "ok",
     "timestamp": 1555830926717,
     "user": {
      "displayName": "Denis",
      "photoUrl": "https://lh3.googleusercontent.com/-FqXhnZLeXmg/AAAAAAAAAAI/AAAAAAAATYg/PmeLaYQOggo/s64/photo.jpg",
      "userId": "07615694621816642823"
     },
     "user_tz": -120
    },
    "id": "DBBPerP7vwVu",
    "outputId": "565a9465-c3d7-4fa0-8e96-dfee40b247fd"
   },
   "outputs": [
    {
     "data": {
      "text/html": [
       "<div>\n",
       "<style scoped>\n",
       "    .dataframe tbody tr th:only-of-type {\n",
       "        vertical-align: middle;\n",
       "    }\n",
       "\n",
       "    .dataframe tbody tr th {\n",
       "        vertical-align: top;\n",
       "    }\n",
       "\n",
       "    .dataframe thead th {\n",
       "        text-align: right;\n",
       "    }\n",
       "</style>\n",
       "<table border=\"1\" class=\"dataframe\">\n",
       "  <thead>\n",
       "    <tr style=\"text-align: right;\">\n",
       "      <th></th>\n",
       "      <th>duration</th>\n",
       "      <th>pre_game_duration</th>\n",
       "      <th>first_blood_time</th>\n",
       "      <th>first_blood_claimed</th>\n",
       "      <th>hero_id</th>\n",
       "      <th>hero_pick_order</th>\n",
       "      <th>leaver_status</th>\n",
       "      <th>party_players</th>\n",
       "      <th>kills</th>\n",
       "      <th>deaths</th>\n",
       "      <th>...</th>\n",
       "      <th>fight_score_per_min</th>\n",
       "      <th>farm_score_per_min</th>\n",
       "      <th>support_score_per_min</th>\n",
       "      <th>push_score_per_min</th>\n",
       "      <th>radiant_gold_per_min</th>\n",
       "      <th>dire_gold_per_min</th>\n",
       "      <th>sum_gold_per_min</th>\n",
       "      <th>gxpm_per_min_1_per_min</th>\n",
       "      <th>ka_per_min</th>\n",
       "      <th>kda_per_min</th>\n",
       "    </tr>\n",
       "    <tr>\n",
       "      <th>id</th>\n",
       "      <th></th>\n",
       "      <th></th>\n",
       "      <th></th>\n",
       "      <th></th>\n",
       "      <th></th>\n",
       "      <th></th>\n",
       "      <th></th>\n",
       "      <th></th>\n",
       "      <th></th>\n",
       "      <th></th>\n",
       "      <th></th>\n",
       "      <th></th>\n",
       "      <th></th>\n",
       "      <th></th>\n",
       "      <th></th>\n",
       "      <th></th>\n",
       "      <th></th>\n",
       "      <th></th>\n",
       "      <th></th>\n",
       "      <th></th>\n",
       "      <th></th>\n",
       "    </tr>\n",
       "  </thead>\n",
       "  <tbody>\n",
       "    <tr>\n",
       "      <th>0</th>\n",
       "      <td>1761</td>\n",
       "      <td>90</td>\n",
       "      <td>52</td>\n",
       "      <td>0</td>\n",
       "      <td>6</td>\n",
       "      <td>5</td>\n",
       "      <td>0</td>\n",
       "      <td>1</td>\n",
       "      <td>10</td>\n",
       "      <td>4</td>\n",
       "      <td>...</td>\n",
       "      <td>0.000324</td>\n",
       "      <td>0.147882</td>\n",
       "      <td>0.000000</td>\n",
       "      <td>1.937353</td>\n",
       "      <td>46.368541</td>\n",
       "      <td>32.105054</td>\n",
       "      <td>78.473595</td>\n",
       "      <td>241.226576</td>\n",
       "      <td>0.010221</td>\n",
       "      <td>0.002555</td>\n",
       "    </tr>\n",
       "    <tr>\n",
       "      <th>1</th>\n",
       "      <td>2609</td>\n",
       "      <td>90</td>\n",
       "      <td>108</td>\n",
       "      <td>0</td>\n",
       "      <td>7</td>\n",
       "      <td>4</td>\n",
       "      <td>0</td>\n",
       "      <td>3</td>\n",
       "      <td>7</td>\n",
       "      <td>8</td>\n",
       "      <td>...</td>\n",
       "      <td>0.000268</td>\n",
       "      <td>0.080858</td>\n",
       "      <td>0.191644</td>\n",
       "      <td>0.124462</td>\n",
       "      <td>33.400153</td>\n",
       "      <td>39.795707</td>\n",
       "      <td>73.195860</td>\n",
       "      <td>121.889996</td>\n",
       "      <td>0.008432</td>\n",
       "      <td>0.001054</td>\n",
       "    </tr>\n",
       "    <tr>\n",
       "      <th>2</th>\n",
       "      <td>1811</td>\n",
       "      <td>90</td>\n",
       "      <td>102</td>\n",
       "      <td>1</td>\n",
       "      <td>108</td>\n",
       "      <td>5</td>\n",
       "      <td>0</td>\n",
       "      <td>1</td>\n",
       "      <td>5</td>\n",
       "      <td>7</td>\n",
       "      <td>...</td>\n",
       "      <td>0.000552</td>\n",
       "      <td>0.086742</td>\n",
       "      <td>0.765323</td>\n",
       "      <td>0.215142</td>\n",
       "      <td>46.069023</td>\n",
       "      <td>28.260629</td>\n",
       "      <td>74.329652</td>\n",
       "      <td>126.196576</td>\n",
       "      <td>0.011044</td>\n",
       "      <td>0.001578</td>\n",
       "    </tr>\n",
       "    <tr>\n",
       "      <th>3</th>\n",
       "      <td>2668</td>\n",
       "      <td>90</td>\n",
       "      <td>0</td>\n",
       "      <td>0</td>\n",
       "      <td>9</td>\n",
       "      <td>6</td>\n",
       "      <td>0</td>\n",
       "      <td>3</td>\n",
       "      <td>13</td>\n",
       "      <td>2</td>\n",
       "      <td>...</td>\n",
       "      <td>0.000300</td>\n",
       "      <td>0.053304</td>\n",
       "      <td>1.659670</td>\n",
       "      <td>0.221930</td>\n",
       "      <td>40.895052</td>\n",
       "      <td>27.282609</td>\n",
       "      <td>68.177661</td>\n",
       "      <td>104.760120</td>\n",
       "      <td>0.014993</td>\n",
       "      <td>0.007496</td>\n",
       "    </tr>\n",
       "    <tr>\n",
       "      <th>7</th>\n",
       "      <td>1716</td>\n",
       "      <td>90</td>\n",
       "      <td>52</td>\n",
       "      <td>0</td>\n",
       "      <td>31</td>\n",
       "      <td>2</td>\n",
       "      <td>0</td>\n",
       "      <td>1</td>\n",
       "      <td>4</td>\n",
       "      <td>9</td>\n",
       "      <td>...</td>\n",
       "      <td>0.000500</td>\n",
       "      <td>0.032077</td>\n",
       "      <td>2.027972</td>\n",
       "      <td>0.107359</td>\n",
       "      <td>42.691142</td>\n",
       "      <td>30.452797</td>\n",
       "      <td>73.143939</td>\n",
       "      <td>78.407343</td>\n",
       "      <td>0.012238</td>\n",
       "      <td>0.001360</td>\n",
       "    </tr>\n",
       "  </tbody>\n",
       "</table>\n",
       "<p>5 rows × 2248 columns</p>\n",
       "</div>"
      ],
      "text/plain": [
       "    duration  pre_game_duration  first_blood_time  first_blood_claimed  \\\n",
       "id                                                                       \n",
       "0       1761                 90                52                    0   \n",
       "1       2609                 90               108                    0   \n",
       "2       1811                 90               102                    1   \n",
       "3       2668                 90                 0                    0   \n",
       "7       1716                 90                52                    0   \n",
       "\n",
       "    hero_id  hero_pick_order  leaver_status  party_players  kills  deaths  \\\n",
       "id                                                                          \n",
       "0         6                5              0              1     10       4   \n",
       "1         7                4              0              3      7       8   \n",
       "2       108                5              0              1      5       7   \n",
       "3         9                6              0              3     13       2   \n",
       "7        31                2              0              1      4       9   \n",
       "\n",
       "       ...       fight_score_per_min  farm_score_per_min  \\\n",
       "id     ...                                                 \n",
       "0      ...                  0.000324            0.147882   \n",
       "1      ...                  0.000268            0.080858   \n",
       "2      ...                  0.000552            0.086742   \n",
       "3      ...                  0.000300            0.053304   \n",
       "7      ...                  0.000500            0.032077   \n",
       "\n",
       "    support_score_per_min  push_score_per_min  radiant_gold_per_min  \\\n",
       "id                                                                    \n",
       "0                0.000000            1.937353             46.368541   \n",
       "1                0.191644            0.124462             33.400153   \n",
       "2                0.765323            0.215142             46.069023   \n",
       "3                1.659670            0.221930             40.895052   \n",
       "7                2.027972            0.107359             42.691142   \n",
       "\n",
       "    dire_gold_per_min  sum_gold_per_min  gxpm_per_min_1_per_min  ka_per_min  \\\n",
       "id                                                                            \n",
       "0           32.105054         78.473595              241.226576    0.010221   \n",
       "1           39.795707         73.195860              121.889996    0.008432   \n",
       "2           28.260629         74.329652              126.196576    0.011044   \n",
       "3           27.282609         68.177661              104.760120    0.014993   \n",
       "7           30.452797         73.143939               78.407343    0.012238   \n",
       "\n",
       "    kda_per_min  \n",
       "id               \n",
       "0      0.002555  \n",
       "1      0.001054  \n",
       "2      0.001578  \n",
       "3      0.007496  \n",
       "7      0.001360  \n",
       "\n",
       "[5 rows x 2248 columns]"
      ]
     },
     "execution_count": 24,
     "metadata": {
      "tags": []
     },
     "output_type": "execute_result"
    }
   ],
   "source": [
    "X_train.head()"
   ]
  },
  {
   "cell_type": "markdown",
   "metadata": {
    "colab_type": "text",
    "id": "OF9kVmU5IjK2"
   },
   "source": [
    "### Models"
   ]
  },
  {
   "cell_type": "markdown",
   "metadata": {
    "colab_type": "text",
    "id": "qk6v6rarrpVW"
   },
   "source": [
    "#### CatBoost"
   ]
  },
  {
   "cell_type": "code",
   "execution_count": 0,
   "metadata": {
    "colab": {},
    "colab_type": "code",
    "id": "LGltH9CuIjK4"
   },
   "outputs": [],
   "source": [
    "cat_f = ['hero_id', 'party_players']"
   ]
  },
  {
   "cell_type": "code",
   "execution_count": 0,
   "metadata": {
    "colab": {},
    "colab_type": "code",
    "id": "gWOA8HTeIjLA"
   },
   "outputs": [],
   "source": [
    "cbc = CatBoostClassifier(depth=9, iterations=1000, cat_features = cat_f, task_type='GPU')"
   ]
  },
  {
   "cell_type": "code",
   "execution_count": null,
   "metadata": {
    "colab": {
     "base_uri": "https://localhost:8080/",
     "height": 17034
    },
    "colab_type": "code",
    "executionInfo": {
     "elapsed": 353316,
     "status": "ok",
     "timestamp": 1555773893457,
     "user": {
      "displayName": "Denis",
      "photoUrl": "https://lh3.googleusercontent.com/-FqXhnZLeXmg/AAAAAAAAAAI/AAAAAAAATYg/PmeLaYQOggo/s64/photo.jpg",
      "userId": "07615694621816642823"
     },
     "user_tz": -180
    },
    "id": "k0jaDr58IjLM",
    "outputId": "5cb0ebe8-6dde-417a-b56e-f5291d4776f2"
   },
   "outputs": [],
   "source": [
    "subm(cbc, X_train, y_train, X_test, 'cbc1000')"
   ]
  },
  {
   "cell_type": "markdown",
   "metadata": {
    "colab_type": "text",
    "id": "xA8A4U6S_y6u"
   },
   "source": [
    "#### LightGBM"
   ]
  },
  {
   "cell_type": "code",
   "execution_count": 0,
   "metadata": {
    "colab": {},
    "colab_type": "code",
    "id": "WzCM2kHo__YH"
   },
   "outputs": [],
   "source": [
    "import lightgbm as lgb"
   ]
  },
  {
   "cell_type": "code",
   "execution_count": 0,
   "metadata": {
    "colab": {},
    "colab_type": "code",
    "id": "gaRQJAEoACeC"
   },
   "outputs": [],
   "source": [
    "d_train = lgb.Dataset(X_train, label=y_train)\n",
    "params = {}\n",
    "params['learning_rate'] = 0.03\n",
    "params['max_depth'] = 10\n",
    "clf = lgb.train(params, d_train, 3000)"
   ]
  },
  {
   "cell_type": "code",
   "execution_count": 0,
   "metadata": {
    "colab": {},
    "colab_type": "code",
    "id": "BKserMdUBlP5"
   },
   "outputs": [],
   "source": [
    "pred = clf.predict(X_test)"
   ]
  },
  {
   "cell_type": "code",
   "execution_count": 0,
   "metadata": {
    "colab": {},
    "colab_type": "code",
    "id": "O9Sh5sToDAXx"
   },
   "outputs": [],
   "source": [
    "to_ans(X_test, pred, 'lbg3000')"
   ]
  },
  {
   "cell_type": "markdown",
   "metadata": {
    "colab_type": "text",
    "id": "WJ7QKjR_rpV4"
   },
   "source": [
    "#### Predict mean"
   ]
  },
  {
   "cell_type": "code",
   "execution_count": 0,
   "metadata": {
    "colab": {},
    "colab_type": "code",
    "id": "E7qb_J0nDcvd"
   },
   "outputs": [],
   "source": [
    "cbc.fit(X_train, y_train)\n",
    "cbc_pred = cbc.predict_proba(X_test)[:, 1]"
   ]
  },
  {
   "cell_type": "code",
   "execution_count": 0,
   "metadata": {
    "colab": {},
    "colab_type": "code",
    "id": "niB2jIKxD0Sv"
   },
   "outputs": [],
   "source": [
    "to_ans(X_test, 0.5*pred+0.5*cbc_pred, 'lgb_cbc')"
   ]
  }
 ],
 "metadata": {
  "accelerator": "GPU",
  "colab": {
   "collapsed_sections": [],
   "name": "final_main.ipynb",
   "provenance": [],
   "version": "0.3.2"
  },
  "kernelspec": {
   "display_name": "Python 3",
   "language": "python",
   "name": "python3"
  },
  "language_info": {
   "codemirror_mode": {
    "name": "ipython",
    "version": 3
   },
   "file_extension": ".py",
   "mimetype": "text/x-python",
   "name": "python",
   "nbconvert_exporter": "python",
   "pygments_lexer": "ipython3",
   "version": "3.7.3"
  }
 },
 "nbformat": 4,
 "nbformat_minor": 1
}
